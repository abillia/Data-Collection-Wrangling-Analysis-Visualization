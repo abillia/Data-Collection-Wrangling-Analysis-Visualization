{
 "cells": [
  {
   "cell_type": "markdown",
   "metadata": {},
   "source": [
    "# <center>Assignment 14"
   ]
  },
  {
   "cell_type": "markdown",
   "metadata": {},
   "source": [
    "Name: Alua Bilakhanova (211107012)"
   ]
  },
  {
   "cell_type": "code",
   "execution_count": 1,
   "metadata": {},
   "outputs": [],
   "source": [
    "# A dictionary of movie critics and their ratings of a small\n",
    "# set of movies\n",
    "\n",
    "critics={'Lisa Rose': {'Lady in the Water': 2.5, 'Snakes on a Plane': 3.5,\n",
    "'Just My Luck': 3.0, 'Superman Returns': 3.5, 'You, Me and Dupree': 2.5,\n",
    "'The Night Listener': 3.0},\n",
    "        'Gene Seymour': {'Lady in the Water': 3.0, 'Snakes on a Plane': 3.5,\n",
    "'Just My Luck': 1.5, 'Superman Returns': 5.0, 'The Night Listener': 3.0,\n",
    "'You, Me and Dupree': 3.5},\n",
    "        'Michael Phillips': {'Lady in the Water': 2.5, 'Snakes on a Plane': 3.0,\n",
    "'Superman Returns': 3.5, 'The Night Listener': 4.0},\n",
    "        'Claudia Puig': {'Snakes on a Plane': 3.5, 'Just My Luck': 3.0,\n",
    "'The Night Listener': 4.5, 'Superman Returns': 4.0,\n",
    "'You, Me and Dupree': 2.5},\n",
    "        'Mick LaSalle': {'Lady in the Water': 3.0, 'Snakes on a Plane': 4.0,\n",
    "'Just My Luck': 2.0, 'Superman Returns': 3.0, 'The Night Listener': 3.0,\n",
    "'You, Me and Dupree': 2.0},\n",
    "        'Jack Matthews': {'Lady in the Water': 3.0, 'Snakes on a Plane': 4.0,\n",
    "'The Night Listener': 3.0, 'Superman Returns': 5.0, 'You, Me and Dupree': 3.5},\n",
    "        'Toby': {'Snakes on a Plane':4.5,'You, Me and Dupree':1.0,'Superman Returns':4.0},\n",
    "        'Jack John': {'Lady in the Water': 3.0, 'Snakes on a Plane': 4.0,'The Night Listener': 3.0}}\n"
   ]
  },
  {
   "cell_type": "markdown",
   "metadata": {},
   "source": [
    "### Exercises"
   ]
  },
  {
   "cell_type": "markdown",
   "metadata": {},
   "source": [
    "<b>Ex1</b><br>\n",
    "1. Tanimoto score. Find out what a Tanimoto similarity score is. In what cases could this be used as the similarity metric instead of Euclidean distance or Pearson coefficient? Create a new similarity function using the Tanimoto score."
   ]
  },
  {
   "cell_type": "markdown",
   "metadata": {},
   "source": [
    "Tanimoto coefficient is a metric (or score) to measure the similarity of two sets of elements.\n",
    "\n",
    "Tanimoto coefficient can be simply defined as the ratio of the intersection of the two sets over the union of the two sets.\n",
    "More precisely, the Tanimoto coefficient of set A and set B can be defined as:\n",
    "\n",
    "T = Nc / (Na + Nb - Nc)<br>\n",
    "where:<br>\n",
    "  Na is the number of elements in set А<br>\n",
    "  Nb is the number of elements in set B<br>\n",
    "  Nc is the number of elements that are shared in A and B<br>"
   ]
  },
  {
   "cell_type": "code",
   "execution_count": 2,
   "metadata": {},
   "outputs": [],
   "source": [
    "#  similarity function using the Tanimoto score.\n",
    "def sim_tanimoto(prefs,person1,person2):\n",
    "    number_prefs_person1 = len(prefs[person1])\n",
    "    number_prefs_person2 = len(prefs[person2])\n",
    "    shared_prefs = {}\n",
    "    for item in prefs[person1]:\n",
    "        if item in prefs[person2]:\n",
    "            shared_prefs[item] = 1\n",
    "    if len(shared_prefs) == 0:\n",
    "        return 0\n",
    "    else:\n",
    "        return len(shared_prefs)/(number_prefs_person1+number_prefs_person2-len(shared_prefs))\n",
    "    "
   ]
  },
  {
   "cell_type": "code",
   "execution_count": 3,
   "metadata": {},
   "outputs": [
    {
     "name": "stdout",
     "output_type": "stream",
     "text": [
      "Similarity score of Lisa Rose and Gene Seymour is 1.0\n"
     ]
    }
   ],
   "source": [
    "person1 = 'Lisa Rose'\n",
    "person2 = 'Gene Seymour'\n",
    "similarity_score = sim_tanimoto(critics, person1, person2)\n",
    "print(f'Similarity score of {person1} and {person2} is {similarity_score}')"
   ]
  },
  {
   "cell_type": "markdown",
   "metadata": {},
   "source": [
    "<b>Ex2</b><br>\n",
    "   2.  User-based efficiency. The user-based filtering algorithm is inefficient because it compares a user to all other users every time a recommendation is needed. Write a function to precompute user similarities, and alter the recommendation code to use only the top five other users to get recommendations."
   ]
  },
  {
   "cell_type": "code",
   "execution_count": 4,
   "metadata": {},
   "outputs": [],
   "source": [
    "# function to precompute user similarities\n",
    "def precompute_user_similarities(prefs,person):\n",
    "    similarities = {}\n",
    "    for other in prefs:\n",
    "        if other==person: continue\n",
    "        sim = sim_tanimoto(prefs,person,other)\n",
    "        similarities[other] = sim\n",
    "    return similarities\n",
    "    "
   ]
  },
  {
   "cell_type": "code",
   "execution_count": 5,
   "metadata": {},
   "outputs": [
    {
     "data": {
      "text/plain": [
       "{'Gene Seymour': 1.0,\n",
       " 'Michael Phillips': 0.6666666666666666,\n",
       " 'Claudia Puig': 0.8333333333333334,\n",
       " 'Mick LaSalle': 1.0,\n",
       " 'Jack Matthews': 0.8333333333333334,\n",
       " 'Toby': 0.5,\n",
       " 'Jack John': 0.5}"
      ]
     },
     "execution_count": 5,
     "metadata": {},
     "output_type": "execute_result"
    }
   ],
   "source": [
    "d = precompute_user_similarities(critics,person1)\n",
    "d"
   ]
  },
  {
   "cell_type": "code",
   "execution_count": 6,
   "metadata": {},
   "outputs": [
    {
     "data": {
      "text/plain": [
       "{'Gene Seymour': 1.0,\n",
       " 'Mick LaSalle': 1.0,\n",
       " 'Claudia Puig': 0.8333333333333334,\n",
       " 'Jack Matthews': 0.8333333333333334,\n",
       " 'Michael Phillips': 0.6666666666666666}"
      ]
     },
     "execution_count": 6,
     "metadata": {},
     "output_type": "execute_result"
    }
   ],
   "source": [
    "import operator\n",
    "dict(sorted(d.items(), key=operator.itemgetter(1), reverse=True)[:5])"
   ]
  },
  {
   "cell_type": "code",
   "execution_count": 7,
   "metadata": {},
   "outputs": [],
   "source": [
    "def getRecommendations(prefs,person,similarity=precompute_user_similarities):\n",
    "    totals={}\n",
    "    simSums={}\n",
    "    d = similarity(prefs,person)\n",
    "    #Top five others\n",
    "    top_five_others = dict(sorted(d.items(), key=operator.itemgetter(1), reverse=True)[:5])\n",
    "    \n",
    "    for other in top_five_others.keys():\n",
    "        if other==person: continue\n",
    "        sim = top_five_others[other]\n",
    "        if sim<=0: continue\n",
    "        for item in prefs[other]:\n",
    "            if item not in prefs[person] or prefs[person][item]==0:\n",
    "                totals.setdefault(item,0)\n",
    "                totals[item]+=prefs[other][item]*sim\n",
    "                simSums.setdefault(item,0)\n",
    "                simSums[item]+=sim\n",
    "                \n",
    "    rankings=[(total/simSums[item],item) for item,total in totals.items( )]\n",
    "    rankings.sort( )\n",
    "    rankings.reverse( )\n",
    "    return rankings"
   ]
  },
  {
   "cell_type": "code",
   "execution_count": 8,
   "metadata": {},
   "outputs": [
    {
     "data": {
      "text/plain": [
       "[(3.333333333333333, 'The Night Listener'),\n",
       " (2.880952380952381, 'Lady in the Water'),\n",
       " (2.4047619047619047, 'Just My Luck')]"
      ]
     },
     "execution_count": 8,
     "metadata": {},
     "output_type": "execute_result"
    }
   ],
   "source": [
    "getRecommendations(critics,'Toby')"
   ]
  },
  {
   "cell_type": "code",
   "execution_count": null,
   "metadata": {},
   "outputs": [],
   "source": []
  }
 ],
 "metadata": {
  "kernelspec": {
   "display_name": "Python 3",
   "language": "python",
   "name": "python3"
  },
  "language_info": {
   "codemirror_mode": {
    "name": "ipython",
    "version": 3
   },
   "file_extension": ".py",
   "mimetype": "text/x-python",
   "name": "python",
   "nbconvert_exporter": "python",
   "pygments_lexer": "ipython3",
   "version": "3.8.5"
  }
 },
 "nbformat": 4,
 "nbformat_minor": 4
}
