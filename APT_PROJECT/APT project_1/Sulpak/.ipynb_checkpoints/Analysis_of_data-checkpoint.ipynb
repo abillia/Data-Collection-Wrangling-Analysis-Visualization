{
 "cells": [
  {
   "cell_type": "code",
   "execution_count": 3,
   "metadata": {},
   "outputs": [],
   "source": [
    "import pandas as pd\n",
    "import numpy as np\n",
    "import matplotlib.pyplot as plt"
   ]
  },
  {
   "cell_type": "code",
   "execution_count": 20,
   "metadata": {},
   "outputs": [],
   "source": [
    "data = pd.read_csv(\"sulpak_sm_dataset.csv\")\n",
    "manufacturer = data['Manufacturer'].unique().tolist()\n",
    "manufacturer.sort()"
   ]
  },
  {
   "cell_type": "code",
   "execution_count": 19,
   "metadata": {},
   "outputs": [
    {
     "name": "stdout",
     "output_type": "stream",
     "text": [
      "['Apple' 'BQ' 'HTC' 'Huawei' 'INOI' 'Nokia' 'OPPO' 'Poco' 'Realme'\n",
      " 'Samsung' 'Tecno' 'Vivo' 'Xiaomi' 'ZTE']\n"
     ]
    }
   ],
   "source": [
    "print(manufacturer)"
   ]
  },
  {
   "cell_type": "code",
   "execution_count": 35,
   "metadata": {},
   "outputs": [
    {
     "data": {
      "image/png": "[encoded data removed]",
      "text/plain": [
       "<Figure size 432x288 with 1 Axes>"
      ]
     },
     "metadata": {},
     "output_type": "display_data"
    }
   ],
   "source": [
    "data['Manufacturer'].value_counts().plot(kind=\"pie\")\n",
    "plt.title(\"Percentage of Smartphone Manufacturers\");"
   ]
  },
  {
   "cell_type": "code",
   "execution_count": 11,
   "metadata": {},
   "outputs": [],
   "source": [
    "m= data.groupby('Manufacturer').count()"
   ]
  },
  {
   "cell_type": "code",
   "execution_count": 12,
   "metadata": {},
   "outputs": [
    {
     "name": "stdout",
     "output_type": "stream",
     "text": [
      "              Title  Price  Operating system  Display diagonal  Memory  \\\n",
      "Manufacturer                                                             \n",
      "Apple           629    629               629               629     625   \n",
      "BQ                9      9                 9                 9       9   \n",
      "HTC               1      1                 1                 1       1   \n",
      "Huawei           25     25                25                25      25   \n",
      "INOI              1      1                 1                 1       1   \n",
      "Nokia            10     10                10                10      10   \n",
      "OPPO             26     26                26                26      26   \n",
      "Poco             18     18                18                18      18   \n",
      "Realme           15     15                15                15      15   \n",
      "Samsung         101    101               101               101     101   \n",
      "Tecno            20     20                20                20      20   \n",
      "Vivo             23     23                23                23      23   \n",
      "Xiaomi           86     86                86                86      86   \n",
      "ZTE               4      4                 4                 4       4   \n",
      "\n",
      "              Main Camera  Front Camera  Delivery  Manufacturer's country  \\\n",
      "Manufacturer                                                                \n",
      "Apple                 625           617       629                     629   \n",
      "BQ                      9             9         9                       9   \n",
      "HTC                     1             1         1                       1   \n",
      "Huawei                 25            25        25                      25   \n",
      "INOI                    1             1         1                       1   \n",
      "Nokia                  10            10        10                      10   \n",
      "OPPO                   26            26        26                      26   \n",
      "Poco                   18            18        18                      18   \n",
      "Realme                 15            15        15                      15   \n",
      "Samsung               101           100       101                      87   \n",
      "Tecno                  20            20        20                      20   \n",
      "Vivo                   23            23        23                      23   \n",
      "Xiaomi                 86            86        86                      86   \n",
      "ZTE                     4             4         4                       4   \n",
      "\n",
      "              Features  \n",
      "Manufacturer            \n",
      "Apple              629  \n",
      "BQ                   9  \n",
      "HTC                  1  \n",
      "Huawei              25  \n",
      "INOI                 1  \n",
      "Nokia               10  \n",
      "OPPO                26  \n",
      "Poco                18  \n",
      "Realme              15  \n",
      "Samsung            101  \n",
      "Tecno               20  \n",
      "Vivo                22  \n",
      "Xiaomi              85  \n",
      "ZTE                  4  \n"
     ]
    }
   ],
   "source": [
    "print(m)"
   ]
  },
  {
   "cell_type": "code",
   "execution_count": null,
   "metadata": {},
   "outputs": [],
   "source": []
  }
 ],
 "metadata": {
  "kernelspec": {
   "display_name": "Python 3",
   "language": "python",
   "name": "python3"
  },
  "language_info": {
   "codemirror_mode": {
    "name": "ipython",
    "version": 3
   },
   "file_extension": ".py",
   "mimetype": "text/x-python",
   "name": "python",
   "nbconvert_exporter": "python",
   "pygments_lexer": "ipython3",
   "version": "3.8.5"
  }
 },
 "nbformat": 4,
 "nbformat_minor": 4
}
