{
 "cells": [
  {
   "cell_type": "markdown",
   "metadata": {},
   "source": [
    "# PROJECT 1\n"
   ]
  },
  {
   "cell_type": "markdown",
   "metadata": {},
   "source": [
    "## TEAM VEYRON (6)<h3>Team Members</h3>\n",
    "+ Alua Bilakhanova   (ID: 211107012)\n",
    "+ Kassymkhan Sakush  (ID: 211107052)\n",
    "+ Nursultan Rzabekov (ID: 211107045)\n",
    "+ Yernar Massujima   (ID: 211107057)"
   ]
  },
  {
   "cell_type": "markdown",
   "metadata": {},
   "source": [
    "## INTRODUCTION"
   ]
  },
  {
   "cell_type": "markdown",
   "metadata": {},
   "source": [
    "**Aim**:<br>Find necessary data by scraping the web pages and analyze the found data."
   ]
  },
  {
   "cell_type": "markdown",
   "metadata": {},
   "source": [
    "**Data Source:** \n",
    "+ Alser store: alser_sm_dataset.csv \n",
    "+ Belyi Veter store: shopBV_sm_dataset.csv\n",
    "+ Kaspi store: kaspi_sm_dataset.csv\n",
    "+ Sulpak store: sulpak_sm_dataset.csv\n",
    "\n",
    "\n"
   ]
  },
  {
   "cell_type": "markdown",
   "metadata": {},
   "source": [
    "## EXPLORE / VISUALISE"
   ]
  },
  {
   "cell_type": "markdown",
   "metadata": {},
   "source": [
    "<h3>Import Statements</h3>"
   ]
  },
  {
   "cell_type": "code",
   "execution_count": 1,
   "metadata": {},
   "outputs": [],
   "source": [
    "import pandas as pd\n",
    "import numpy as np\n",
    "import math\n",
    "import matplotlib.pyplot as plt"
   ]
  },
  {
   "cell_type": "markdown",
   "metadata": {},
   "source": [
    "<h3>Read the data</h3>"
   ]
  },
  {
   "cell_type": "code",
   "execution_count": 4,
   "metadata": {},
   "outputs": [
    {
     "ename": "TypeError",
     "evalue": "'<' not supported between instances of 'float' and 'str'",
     "output_type": "error",
     "traceback": [
      "\u001b[1;31m---------------------------------------------------------------------------\u001b[0m",
      "\u001b[1;31mTypeError\u001b[0m                                 Traceback (most recent call last)",
      "\u001b[1;32m<ipython-input-4-2a5901323afd>\u001b[0m in \u001b[0;36m<module>\u001b[1;34m\u001b[0m\n\u001b[0;32m      1\u001b[0m \u001b[0mdata\u001b[0m \u001b[1;33m=\u001b[0m \u001b[0mpd\u001b[0m\u001b[1;33m.\u001b[0m\u001b[0mread_csv\u001b[0m\u001b[1;33m(\u001b[0m\u001b[1;34m\"sulpak_sm_dataset.csv\"\u001b[0m\u001b[1;33m)\u001b[0m\u001b[1;33m\u001b[0m\u001b[1;33m\u001b[0m\u001b[0m\n\u001b[0;32m      2\u001b[0m \u001b[0mmanufacturer\u001b[0m \u001b[1;33m=\u001b[0m \u001b[0mdata\u001b[0m\u001b[1;33m[\u001b[0m\u001b[1;34m'Manufacturer'\u001b[0m\u001b[1;33m]\u001b[0m\u001b[1;33m.\u001b[0m\u001b[0munique\u001b[0m\u001b[1;33m(\u001b[0m\u001b[1;33m)\u001b[0m\u001b[1;33m.\u001b[0m\u001b[0mtolist\u001b[0m\u001b[1;33m(\u001b[0m\u001b[1;33m)\u001b[0m\u001b[1;33m\u001b[0m\u001b[1;33m\u001b[0m\u001b[0m\n\u001b[1;32m----> 3\u001b[1;33m \u001b[0mmanufacturer\u001b[0m\u001b[1;33m.\u001b[0m\u001b[0msort\u001b[0m\u001b[1;33m(\u001b[0m\u001b[1;33m)\u001b[0m\u001b[1;33m\u001b[0m\u001b[1;33m\u001b[0m\u001b[0m\n\u001b[0m",
      "\u001b[1;31mTypeError\u001b[0m: '<' not supported between instances of 'float' and 'str'"
     ]
    }
   ],
   "source": [
    "data = pd.read_csv(\"sulpak_sm_dataset.csv\")\n",
    "manufacturer = data['Manufacturer'].unique().tolist()\n",
    "manufacturer.sort()"
   ]
  },
  {
   "cell_type": "code",
   "execution_count": 3,
   "metadata": {},
   "outputs": [
    {
     "name": "stdout",
     "output_type": "stream",
     "text": [
      "['Apple', 'BQ', 'HTC', 'Huawei', 'INOI', 'Nokia', 'OPPO', 'Poco', 'Realme', 'Samsung', 'Tecno', 'Vivo', 'Xiaomi', 'ZTE']\n"
     ]
    }
   ],
   "source": [
    "print(manufacturer)"
   ]
  },
  {
   "cell_type": "code",
   "execution_count": 4,
   "metadata": {},
   "outputs": [
    {
     "data": {
      "image/png": "[encoded data removed]",
      "text/plain": [
       "<Figure size 432x288 with 1 Axes>"
      ]
     },
     "metadata": {},
     "output_type": "display_data"
    }
   ],
   "source": [
    "data['Manufacturer'].value_counts().plot(kind=\"pie\")\n",
    "plt.title(\"The share of manufacturers relative to each other\");"
   ]
  },
  {
   "cell_type": "code",
   "execution_count": 5,
   "metadata": {},
   "outputs": [],
   "source": [
    "m= data.groupby('Manufacturer').count()"
   ]
  },
  {
   "cell_type": "code",
   "execution_count": 6,
   "metadata": {},
   "outputs": [
    {
     "name": "stdout",
     "output_type": "stream",
     "text": [
      "              Title  Price  Operating system  Display diagonal  Memory  \\\n",
      "Manufacturer                                                             \n",
      "Apple           629    629               629               629     625   \n",
      "BQ                9      9                 9                 9       9   \n",
      "HTC               1      1                 1                 1       1   \n",
      "Huawei           25     25                25                25      25   \n",
      "INOI              1      1                 1                 1       1   \n",
      "Nokia            10     10                10                10      10   \n",
      "OPPO             26     26                26                26      26   \n",
      "Poco             18     18                18                18      18   \n",
      "Realme           15     15                15                15      15   \n",
      "Samsung         101    101               101               101     101   \n",
      "Tecno            20     20                20                20      20   \n",
      "Vivo             23     23                23                23      23   \n",
      "Xiaomi           86     86                86                86      86   \n",
      "ZTE               4      4                 4                 4       4   \n",
      "\n",
      "              Main Camera  Front Camera  Delivery  Manufacturer's country  \\\n",
      "Manufacturer                                                                \n",
      "Apple                 625           617       629                     629   \n",
      "BQ                      9             9         9                       9   \n",
      "HTC                     1             1         1                       1   \n",
      "Huawei                 25            25        25                      25   \n",
      "INOI                    1             1         1                       1   \n",
      "Nokia                  10            10        10                      10   \n",
      "OPPO                   26            26        26                      26   \n",
      "Poco                   18            18        18                      18   \n",
      "Realme                 15            15        15                      15   \n",
      "Samsung               101           100       101                      87   \n",
      "Tecno                  20            20        20                      20   \n",
      "Vivo                   23            23        23                      23   \n",
      "Xiaomi                 86            86        86                      86   \n",
      "ZTE                     4             4         4                       4   \n",
      "\n",
      "              Features  \n",
      "Manufacturer            \n",
      "Apple              629  \n",
      "BQ                   9  \n",
      "HTC                  1  \n",
      "Huawei              25  \n",
      "INOI                 1  \n",
      "Nokia               10  \n",
      "OPPO                26  \n",
      "Poco                18  \n",
      "Realme              15  \n",
      "Samsung            101  \n",
      "Tecno               20  \n",
      "Vivo                22  \n",
      "Xiaomi              85  \n",
      "ZTE                  4  \n"
     ]
    }
   ],
   "source": [
    "print(m)"
   ]
  },
  {
   "cell_type": "code",
   "execution_count": 54,
   "metadata": {},
   "outputs": [],
   "source": [
    "data_1 = pd.read_csv(\"sulpak_sm_dataset.csv\")\n",
    "data_2 = pd.read_csv(\"kaspi_store_item_content_dataset.csv\")\n"
   ]
  },
  {
   "cell_type": "code",
   "execution_count": 64,
   "metadata": {
    "scrolled": true
   },
   "outputs": [
    {
     "name": "stdout",
     "output_type": "stream",
     "text": [
      "                                               Title      Price\n",
      "0       Смартфон Apple iPhone 12 Pro Max 256Gb синий  609 000 ₸\n",
      "1             Смартфон Xiaomi Redmi 9T 4/128Gb серый   84 950 ₸\n",
      "2     Смартфон Apple iPhone 11 128Gb Slim Box черный  389 000 ₸\n",
      "3      Смартфон Apple iPhone 11 64Gb Slim Box черный  315 470 ₸\n",
      "4           Смартфон Apple iPhone 12 Pro 128Gb синий  529 900 ₸\n",
      "...                                              ...        ...\n",
      "1185   Смартфон Apple iPhone 11 128Gb Slim Box белый  387 000 ₸\n",
      "1186           Смартфон Xiaomi Redmi 9A 2/32Gb серый   48 990 ₸\n",
      "1187    Смартфон Xiaomi Redmi Note 10S 6/128Gb серый  119 990 ₸\n",
      "1188    Смартфон Apple iPhone 12 Pro Max 128Gb синий  575 900 ₸\n",
      "1189        Смартфон Apple iPhone 12 Pro 256Gb синий  559 000 ₸\n",
      "\n",
      "[1190 rows x 2 columns]\n",
      "48990\n",
      "63890\n",
      "68000\n",
      "58450\n",
      "59754\n",
      "51990\n",
      "68480\n",
      "62346\n",
      "59990\n",
      "69770\n",
      "69479\n",
      "67499\n",
      "67902\n",
      "62567\n",
      "69990\n",
      "44880\n",
      "63280\n",
      "59990\n",
      "68274\n",
      "48450\n",
      "54685\n",
      "69990\n",
      "64990\n",
      "46450\n",
      "64690\n",
      "68990\n",
      "69990\n",
      "64500\n",
      "69479\n",
      "63500\n",
      "63980\n",
      "64689\n",
      "36200\n",
      "44588\n",
      "59798\n",
      "54455\n",
      "68967\n",
      "59779\n",
      "64890\n",
      "65000\n",
      "63840\n",
      "44890\n",
      "53890\n",
      "37200\n",
      "47949\n",
      "31990\n",
      "19990\n",
      "53890\n",
      "51180\n",
      "65000\n",
      "1132\n",
      "1141\n",
      "62500\n",
      "59398\n",
      "59990\n",
      "59890\n",
      "64900\n",
      "25980\n",
      "49990\n",
      "59890\n",
      "64899\n",
      "65940\n",
      "19990\n",
      "54780\n",
      "1129\n",
      "59990\n",
      "49769\n",
      "69890\n",
      "69490\n",
      "49990\n",
      "22990\n",
      "59990\n",
      "49974\n",
      "32990\n",
      "19990\n",
      "48490\n",
      "37200\n",
      "32990\n",
      "55389\n",
      "46210\n",
      "68990\n",
      "35990\n",
      "37200\n",
      "29865\n",
      "64890\n",
      "51900\n",
      "45455\n",
      "17995\n",
      "47500\n",
      "69890\n",
      "63990\n",
      "59890\n",
      "29855\n",
      "59900\n",
      "52990\n",
      "58889\n",
      "47900\n",
      "37299\n",
      "63990\n",
      "51460\n",
      "59870\n",
      "64790\n",
      "54890\n",
      "1135\n",
      "51790\n",
      "27990\n",
      "19490\n",
      "33199\n",
      "59980\n",
      "19990\n",
      "69965\n",
      "27990\n",
      "54900\n",
      "34990\n",
      "57190\n",
      "58889\n",
      "47800\n",
      "28490\n",
      "51900\n",
      "49990\n",
      "35990\n",
      "29990\n",
      "33810\n",
      "29990\n",
      "65990\n",
      "49990\n",
      "69965\n",
      "67965\n",
      "29990\n",
      "59990\n",
      "65990\n",
      "27990\n",
      "59890\n",
      "52680\n",
      "64430\n",
      "34654\n",
      "23822\n",
      "34990\n",
      "41990\n",
      "38460\n",
      "27990\n",
      "38440\n",
      "46990\n",
      "42990\n",
      "26780\n",
      "29779\n",
      "41599\n",
      "55200\n",
      "54990\n",
      "54990\n",
      "51130\n",
      "54990\n",
      "44990\n",
      "33649\n",
      "29399\n",
      "59990\n",
      "55599\n",
      "55599\n",
      "36699\n",
      "65299\n",
      "48790\n",
      "31199\n",
      "35999\n",
      "26990\n",
      "41599\n",
      "64200\n",
      "62199\n",
      "33980\n",
      "41990\n",
      "28990\n",
      "54000\n",
      "59880\n",
      "39990\n",
      "36699\n",
      "29990\n",
      "54990\n",
      "54990\n",
      "59900\n",
      "39900\n",
      "49990\n",
      "63956\n",
      "26990\n",
      "34990\n",
      "41990\n",
      "35000\n",
      "59900\n",
      "34490\n",
      "29990\n",
      "29990\n",
      "39650\n",
      "34970\n",
      "69965\n",
      "60530\n",
      "55750\n",
      "32000\n",
      "29900\n",
      "66990\n",
      "28490\n",
      "39990\n",
      "33990\n",
      "59900\n",
      "66830\n",
      "37620\n",
      "27179\n",
      "67360\n",
      "34970\n",
      "67965\n",
      "53620\n",
      "60530\n",
      "30987\n",
      "34990\n",
      "34990\n",
      "61410\n",
      "41990\n",
      "37990\n",
      "38900\n",
      "29990\n",
      "33810\n",
      "48990\n",
      "48990\n",
      "48990\n",
      "48400\n",
      "48990\n",
      "48990\n",
      "48990\n",
      "48990\n",
      "48990\n",
      "48990\n",
      "48400\n",
      "48990\n",
      "48990\n",
      "48990\n",
      "48990\n",
      "48990\n",
      "48990\n",
      "48990\n",
      "48990\n",
      "48990\n",
      "48400\n",
      "48990\n"
     ]
    }
   ],
   "source": [
    "list_1= []\n",
    "list_2=[]\n",
    "print(data_2[[\"Title\",\"Price\"]])  \n",
    "for item in data_1['Price']:\n",
    "    price=item.split(' ')\n",
    "    price_new = int(price[0]+price[1])\n",
    "    list_1.append(price_new)\n",
    "\n",
    "    \n",
    "for item in data_2['Price']:\n",
    "    if pd.isna(item):\n",
    "        continue\n",
    "    price2 = item.split(' ')\n",
    "    price_new2 = int(price2[0]+price2[1])\n",
    "    list_2.append(price_new2)\n",
    "for item in list_2:\n",
    "    if item<70000:\n",
    "        print(item)"
   ]
  },
  {
   "cell_type": "code",
   "execution_count": 69,
   "metadata": {},
   "outputs": [
    {
     "data": {
      "image/png": "[encoded data removed]",
      "text/plain": [
       "<Figure size 432x288 with 1 Axes>"
      ]
     },
     "metadata": {
      "needs_background": "light"
     },
     "output_type": "display_data"
    }
   ],
   "source": [
    "\n",
    "y1= sum(1 for i in list_1 if i<70000)\n",
    "y2= sum(1 for i in list_2 if i<70000)\n",
    "x = np.array([\"Sulpak\", \"Kaspi\"])\n",
    "y = np.array([y1, 223])\n",
    "\n",
    "plt.bar(x,y)\n",
    "plt.show()"
   ]
  },
  {
   "cell_type": "code",
   "execution_count": null,
   "metadata": {},
   "outputs": [],
   "source": []
  }
 ],
 "metadata": {
  "kernelspec": {
   "display_name": "Python 3",
   "language": "python",
   "name": "python3"
  },
  "language_info": {
   "codemirror_mode": {
    "name": "ipython",
    "version": 3
   },
   "file_extension": ".py",
   "mimetype": "text/x-python",
   "name": "python",
   "nbconvert_exporter": "python",
   "pygments_lexer": "ipython3",
   "version": "3.8.5"
  }
 },
 "nbformat": 4,
 "nbformat_minor": 4
}
