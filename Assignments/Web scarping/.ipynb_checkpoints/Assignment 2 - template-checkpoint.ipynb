{
 "cells": [
  {
   "cell_type": "markdown",
   "metadata": {
    "id": "zPnrSxz1669c"
   },
   "source": [
    "# <center>Assignment 2"
   ]
  },
  {
   "cell_type": "markdown",
   "metadata": {
    "id": "rc8_RL_Q669j"
   },
   "source": [
    "Deadline: Wednesday 19:00 Feb 3, 2021"
   ]
  },
  {
   "cell_type": "markdown",
   "metadata": {
    "id": "ascbywJQ669j"
   },
   "source": [
    "Name: Alua Bilakhanova (211107012)\n",
    "\n"
   ]
  },
  {
   "cell_type": "markdown",
   "metadata": {
    "id": "AQ-FEyjh669k"
   },
   "source": [
    "**In this assignment you need to work with data from the [worldometers](https://www.worldometers.info/coronavirus/) website. I want you to scrape all 215 countries information about coronavirus cases from the website.** \n",
    "The data has to include:\n",
    "- `Country name`\n",
    "- `Total cases`\n",
    "- `Total deaths`\n",
    "- `Total recovered`\n",
    "- `Active cases`\n",
    "- `New cases`\n",
    "- `New deaths`\n",
    "- `Total tests`\n",
    "- `Population`"
   ]
  },
  {
   "cell_type": "markdown",
   "metadata": {
    "id": "71D-_uCh669k"
   },
   "source": [
    "**You need to use beautiful soup 4 and regular expressions for this task. Save results in csv (txt) file and read this dataset**"
   ]
  },
  {
   "cell_type": "markdown",
   "metadata": {
    "id": "lBO-ZL_3669k"
   },
   "source": [
    "Run cell below, if you don't have bs4 library"
   ]
  },
  {
   "cell_type": "markdown",
   "metadata": {},
   "source": [
    "## Import Statements"
   ]
  },
  {
   "cell_type": "code",
   "execution_count": 2,
   "metadata": {
    "id": "XWwlflce669l"
   },
   "outputs": [],
   "source": [
    "from urllib.request import Request, urlopen\n",
    "from bs4 import BeautifulSoup\n",
    "import re\n",
    "import csv\n",
    "import pandas as pd"
   ]
  },
  {
   "cell_type": "markdown",
   "metadata": {},
   "source": [
    "## Methods"
   ]
  },
  {
   "cell_type": "code",
   "execution_count": 74,
   "metadata": {},
   "outputs": [],
   "source": [
    "# request\n",
    "url = 'https://www.worldometers.info/coronavirus/'\n",
    "req = Request(url, headers={'User-Agent': 'Mozilla/5.0'})\n",
    "html = urlopen(req)"
   ]
  },
  {
   "cell_type": "code",
   "execution_count": 75,
   "metadata": {},
   "outputs": [],
   "source": [
    "#saving data in csv format\n",
    "def save_data(data):\n",
    "    with open('coronavirus_data.csv', encoding='utf-8', mode='a', newline=\"\") as file:\n",
    "        writer = csv.writer(file)\n",
    "#         columns = [\"Country_name\", \"Total_cases\", \"Total_deaths\",\n",
    "#                          \"Total_recovered\", \"Active_cases\", \"New_cases\",\n",
    "#                          \"New_deaths\",\"Total_tests\", \"Population\"]\n",
    "#         writer.writerow(columns)\n",
    "        writer.writerow([data['country_name'],\n",
    "                                 data['total_cases'],\n",
    "                                 data['total_deaths'],\n",
    "                                 data['total_recovered'],\n",
    "                                 data['active_cases'],\n",
    "                                 data['new_cases'],\n",
    "                                 data['new_death'],\n",
    "                                 data['total_tests'],\n",
    "                                 data['population'],\n",
    "                                 ])\n",
    "    "
   ]
  },
  {
   "cell_type": "code",
   "execution_count": 76,
   "metadata": {},
   "outputs": [],
   "source": [
    "#scraping data from the webpage\n",
    "def parser(html):\n",
    "    if html.code == 200:\n",
    "        soup = BeautifulSoup(html.read(), 'html.parser')\n",
    "        table = soup.find('tbody')\n",
    "        items = table.find_all('tr')\n",
    "        for item in items:\n",
    "            country_name = ''\n",
    "            total_cases = ''\n",
    "            new_cases = ''\n",
    "            total_deaths = ''\n",
    "            new_deaths = ''\n",
    "            total_recovered = ''\n",
    "            active_cases = ''\n",
    "            total_tests = ''\n",
    "            population = ''\n",
    "            count = 0\n",
    "            tds = item.find_all('td', {'style': re.compile('^font|^text-align:right')})\n",
    "            if len(tds) == 0:\n",
    "                continue\n",
    "            for td in tds:\n",
    "                count += 1\n",
    "                if count == 2:\n",
    "                    country_name = td.get_text().strip()\n",
    "                elif count == 3:\n",
    "                    total_cases = td.get_text()\n",
    "                elif count == 4:\n",
    "                    new_cases = td.get_text()\n",
    "                elif count == 5:\n",
    "                    total_deaths = td.get_text()\n",
    "                elif count == 6:\n",
    "                    new_deaths = td.get_text()\n",
    "                elif count == 7:\n",
    "                    total_recovered = td.get_text()\n",
    "                elif count == 9:\n",
    "                    active_cases = td.get_text()\n",
    "                elif count == 13:\n",
    "                    total_tests = td.get_text()\n",
    "                elif count == 15:\n",
    "                    population = td.get_text()\n",
    "            data = {\n",
    "                'country_name': country_name,\n",
    "                'total_cases': total_cases,\n",
    "                'total_deaths': total_deaths,\n",
    "                'total_recovered': total_recovered,\n",
    "                'active_cases': active_cases,\n",
    "                'new_cases': new_cases,\n",
    "                'new_death': new_deaths,\n",
    "                'total_tests': total_tests,\n",
    "                'population': population,\n",
    "            }\n",
    "            save_data(data)\n",
    "\n",
    "    "
   ]
  },
  {
   "cell_type": "code",
   "execution_count": 77,
   "metadata": {},
   "outputs": [],
   "source": [
    "#calling the method parser\n",
    "# parser(html)"
   ]
  },
  {
   "cell_type": "code",
   "execution_count": 3,
   "metadata": {},
   "outputs": [
    {
     "data": {
      "text/html": [
       "<div>\n",
       "<style scoped>\n",
       "    .dataframe tbody tr th:only-of-type {\n",
       "        vertical-align: middle;\n",
       "    }\n",
       "\n",
       "    .dataframe tbody tr th {\n",
       "        vertical-align: top;\n",
       "    }\n",
       "\n",
       "    .dataframe thead th {\n",
       "        text-align: right;\n",
       "    }\n",
       "</style>\n",
       "<table border=\"1\" class=\"dataframe\">\n",
       "  <thead>\n",
       "    <tr style=\"text-align: right;\">\n",
       "      <th></th>\n",
       "      <th>Country_name</th>\n",
       "      <th>Total_cases</th>\n",
       "      <th>Total_deaths</th>\n",
       "      <th>Total_recovered</th>\n",
       "      <th>Active_cases</th>\n",
       "      <th>New_cases</th>\n",
       "      <th>New_deaths</th>\n",
       "      <th>Total_tests</th>\n",
       "      <th>Population</th>\n",
       "    </tr>\n",
       "  </thead>\n",
       "  <tbody>\n",
       "    <tr>\n",
       "      <th>0</th>\n",
       "      <td>USA</td>\n",
       "      <td>78,017,402</td>\n",
       "      <td>926,029</td>\n",
       "      <td>47,998,370</td>\n",
       "      <td>29,093,003</td>\n",
       "      <td>NaN</td>\n",
       "      <td>NaN</td>\n",
       "      <td>914,397,640</td>\n",
       "      <td>334,104,170</td>\n",
       "    </tr>\n",
       "    <tr>\n",
       "      <th>1</th>\n",
       "      <td>India</td>\n",
       "      <td>42,272,014</td>\n",
       "      <td>502,905</td>\n",
       "      <td>40,660,202</td>\n",
       "      <td>1,108,907</td>\n",
       "      <td>NaN</td>\n",
       "      <td>NaN</td>\n",
       "      <td>741,561,587</td>\n",
       "      <td>1,401,680,124</td>\n",
       "    </tr>\n",
       "    <tr>\n",
       "      <th>2</th>\n",
       "      <td>Brazil</td>\n",
       "      <td>26,536,597</td>\n",
       "      <td>632,289</td>\n",
       "      <td>22,717,907</td>\n",
       "      <td>3,186,401</td>\n",
       "      <td>NaN</td>\n",
       "      <td>NaN</td>\n",
       "      <td>63,776,166</td>\n",
       "      <td>214,973,669</td>\n",
       "    </tr>\n",
       "    <tr>\n",
       "      <th>3</th>\n",
       "      <td>France</td>\n",
       "      <td>20,758,371</td>\n",
       "      <td>132,506</td>\n",
       "      <td>14,142,022</td>\n",
       "      <td>6,483,843</td>\n",
       "      <td>NaN</td>\n",
       "      <td>NaN</td>\n",
       "      <td>231,648,947</td>\n",
       "      <td>65,504,333</td>\n",
       "    </tr>\n",
       "    <tr>\n",
       "      <th>4</th>\n",
       "      <td>UK</td>\n",
       "      <td>17,803,325</td>\n",
       "      <td>158,318</td>\n",
       "      <td>15,246,943</td>\n",
       "      <td>2,398,064</td>\n",
       "      <td>NaN</td>\n",
       "      <td>NaN</td>\n",
       "      <td>458,465,073</td>\n",
       "      <td>68,455,848</td>\n",
       "    </tr>\n",
       "    <tr>\n",
       "      <th>...</th>\n",
       "      <td>...</td>\n",
       "      <td>...</td>\n",
       "      <td>...</td>\n",
       "      <td>...</td>\n",
       "      <td>...</td>\n",
       "      <td>...</td>\n",
       "      <td>...</td>\n",
       "      <td>...</td>\n",
       "      <td>...</td>\n",
       "    </tr>\n",
       "    <tr>\n",
       "      <th>220</th>\n",
       "      <td>Vanuatu</td>\n",
       "      <td>7</td>\n",
       "      <td>1</td>\n",
       "      <td>6</td>\n",
       "      <td>0</td>\n",
       "      <td>NaN</td>\n",
       "      <td>NaN</td>\n",
       "      <td>23,000</td>\n",
       "      <td>318,600</td>\n",
       "    </tr>\n",
       "    <tr>\n",
       "      <th>221</th>\n",
       "      <td>Marshall Islands</td>\n",
       "      <td>7</td>\n",
       "      <td></td>\n",
       "      <td>7</td>\n",
       "      <td>0</td>\n",
       "      <td>NaN</td>\n",
       "      <td>NaN</td>\n",
       "      <td>NaN</td>\n",
       "      <td>59,828</td>\n",
       "    </tr>\n",
       "    <tr>\n",
       "      <th>222</th>\n",
       "      <td>Saint Helena</td>\n",
       "      <td>2</td>\n",
       "      <td></td>\n",
       "      <td>2</td>\n",
       "      <td>0</td>\n",
       "      <td>NaN</td>\n",
       "      <td>NaN</td>\n",
       "      <td>NaN</td>\n",
       "      <td>6,106</td>\n",
       "    </tr>\n",
       "    <tr>\n",
       "      <th>223</th>\n",
       "      <td>Micronesia</td>\n",
       "      <td>1</td>\n",
       "      <td></td>\n",
       "      <td>1</td>\n",
       "      <td>0</td>\n",
       "      <td>NaN</td>\n",
       "      <td>NaN</td>\n",
       "      <td>NaN</td>\n",
       "      <td>116,949</td>\n",
       "    </tr>\n",
       "    <tr>\n",
       "      <th>224</th>\n",
       "      <td>China</td>\n",
       "      <td>106,419</td>\n",
       "      <td>4,636</td>\n",
       "      <td>100,288</td>\n",
       "      <td>1,495</td>\n",
       "      <td>+79</td>\n",
       "      <td>NaN</td>\n",
       "      <td>160,000,000</td>\n",
       "      <td>1,439,323,776</td>\n",
       "    </tr>\n",
       "  </tbody>\n",
       "</table>\n",
       "<p>225 rows × 9 columns</p>\n",
       "</div>"
      ],
      "text/plain": [
       "         Country_name Total_cases Total_deaths Total_recovered Active_cases  \\\n",
       "0                 USA  78,017,402     926,029       47,998,370   29,093,003   \n",
       "1               India  42,272,014     502,905       40,660,202    1,108,907   \n",
       "2              Brazil  26,536,597     632,289       22,717,907    3,186,401   \n",
       "3              France  20,758,371     132,506       14,142,022    6,483,843   \n",
       "4                  UK  17,803,325     158,318       15,246,943    2,398,064   \n",
       "..                ...         ...          ...             ...          ...   \n",
       "220           Vanuatu           7           1                6            0   \n",
       "221  Marshall Islands           7                            7            0   \n",
       "222      Saint Helena           2                            2            0   \n",
       "223        Micronesia           1                            1            0   \n",
       "224             China     106,419       4,636          100,288        1,495   \n",
       "\n",
       "    New_cases  New_deaths  Total_tests      Population  \n",
       "0         NaN         NaN  914,397,640    334,104,170   \n",
       "1         NaN         NaN  741,561,587  1,401,680,124   \n",
       "2         NaN         NaN   63,776,166    214,973,669   \n",
       "3         NaN         NaN  231,648,947     65,504,333   \n",
       "4         NaN         NaN  458,465,073     68,455,848   \n",
       "..        ...         ...          ...             ...  \n",
       "220       NaN         NaN       23,000        318,600   \n",
       "221       NaN         NaN          NaN         59,828   \n",
       "222       NaN         NaN          NaN          6,106   \n",
       "223       NaN         NaN          NaN        116,949   \n",
       "224       +79         NaN  160,000,000  1,439,323,776   \n",
       "\n",
       "[225 rows x 9 columns]"
      ]
     },
     "execution_count": 3,
     "metadata": {},
     "output_type": "execute_result"
    }
   ],
   "source": [
    "# reading the csv file (parsed data)\n",
    "data = pd.read_csv('coronavirus_data.csv')\n",
    "data"
   ]
  },
  {
   "cell_type": "code",
   "execution_count": null,
   "metadata": {},
   "outputs": [],
   "source": []
  }
 ],
 "metadata": {
  "colab": {
   "collapsed_sections": [],
   "name": "Assignment 2 - template.ipynb",
   "provenance": []
  },
  "kernelspec": {
   "display_name": "Python 3",
   "language": "python",
   "name": "python3"
  },
  "language_info": {
   "codemirror_mode": {
    "name": "ipython",
    "version": 3
   },
   "file_extension": ".py",
   "mimetype": "text/x-python",
   "name": "python",
   "nbconvert_exporter": "python",
   "pygments_lexer": "ipython3",
   "version": "3.8.5"
  }
 },
 "nbformat": 4,
 "nbformat_minor": 1
}
