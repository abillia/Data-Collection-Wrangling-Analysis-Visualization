{
 "cells": [
  {
   "cell_type": "code",
   "execution_count": 21,
   "metadata": {
    "id": "BS5RrEXDZ91e"
   },
   "outputs": [],
   "source": [
    "import random\n",
    "import numpy as np\n",
    "import matplotlib.pyplot as plt\n",
    "import matplotlib.cm as cm\n",
    "import scipy.io as sio #loadmat"
   ]
  },
  {
   "cell_type": "markdown",
   "metadata": {
    "id": "EPdFTaSMZ91h"
   },
   "source": [
    "#### Data"
   ]
  },
  {
   "cell_type": "code",
   "execution_count": 22,
   "metadata": {},
   "outputs": [
    {
     "data": {
      "text/plain": [
       "{'__header__': b'MATLAB 5.0 MAT-file, Platform: GLNXA64, Created on: Sun Oct 16 13:09:09 2011',\n",
       " '__version__': '1.0',\n",
       " '__globals__': [],\n",
       " 'X': array([[0., 0., 0., ..., 0., 0., 0.],\n",
       "        [0., 0., 0., ..., 0., 0., 0.],\n",
       "        [0., 0., 0., ..., 0., 0., 0.],\n",
       "        ...,\n",
       "        [0., 0., 0., ..., 0., 0., 0.],\n",
       "        [0., 0., 0., ..., 0., 0., 0.],\n",
       "        [0., 0., 0., ..., 0., 0., 0.]]),\n",
       " 'y': array([[10],\n",
       "        [10],\n",
       "        [10],\n",
       "        ...,\n",
       "        [ 9],\n",
       "        [ 9],\n",
       "        [ 9]], dtype=uint8)}"
      ]
     },
     "execution_count": 22,
     "metadata": {},
     "output_type": "execute_result"
    }
   ],
   "source": [
    "mat_contents = sio.loadmat(\"digits.mat\")\n",
    "mat_contents"
   ]
  },
  {
   "cell_type": "code",
   "execution_count": 23,
   "metadata": {},
   "outputs": [
    {
     "name": "stdout",
     "output_type": "stream",
     "text": [
      "x values:[[0. 0. 0. ... 0. 0. 0.]\n",
      " [0. 0. 0. ... 0. 0. 0.]\n",
      " [0. 0. 0. ... 0. 0. 0.]\n",
      " ...\n",
      " [0. 0. 0. ... 0. 0. 0.]\n",
      " [0. 0. 0. ... 0. 0. 0.]\n",
      " [0. 0. 0. ... 0. 0. 0.]]\n",
      "y values:[[10]\n",
      " [10]\n",
      " [10]\n",
      " ...\n",
      " [ 9]\n",
      " [ 9]\n",
      " [ 9]]\n"
     ]
    }
   ],
   "source": [
    "x = np.array(mat_contents['X'])\n",
    "y = np.array(mat_contents['y'])\n",
    "print(f'x values:{x}')\n",
    "print(f'y values:{y}')"
   ]
  },
  {
   "cell_type": "code",
   "execution_count": 24,
   "metadata": {},
   "outputs": [
    {
     "name": "stdout",
     "output_type": "stream",
     "text": [
      "Y shape: (5000, 1)\n",
      "X shape: (5000, 400). X[0] shape:(400,)\n"
     ]
    }
   ],
   "source": [
    "print(f\"Y shape: {y.shape}\")\n",
    "print(f\"X shape: {x.shape}. X[0] shape:{x[0].shape}\")"
   ]
  },
  {
   "cell_type": "markdown",
   "metadata": {
    "id": "gdVm4xsWZ91l"
   },
   "source": [
    "#### Data visualization"
   ]
  },
  {
   "cell_type": "code",
   "execution_count": 25,
   "metadata": {},
   "outputs": [],
   "source": [
    "# x= x.reshape(5000, 20, 20)\n",
    "# x.shape[0]"
   ]
  },
  {
   "cell_type": "code",
   "execution_count": 26,
   "metadata": {},
   "outputs": [],
   "source": [
    "def displayData():\n",
    "    img_vectors = np.array(x.reshape(5000, 20, 20))\n",
    "    img =img_vectors[1500]\n",
    "    img = np.transpose(img)\n",
    "    plt.imshow(img)\n",
    "   "
   ]
  },
  {
   "cell_type": "code",
   "execution_count": 27,
   "metadata": {
    "id": "bQpPRliJZ91n",
    "outputId": "d7aa1d45-94fa-4241-e437-a2195ebf7434"
   },
   "outputs": [
    {
     "data": {
      "image/png": "[encoded data removed]",
      "text/plain": [
       "<Figure size 432x288 with 1 Axes>"
      ]
     },
     "metadata": {
      "needs_background": "light"
     },
     "output_type": "display_data"
    }
   ],
   "source": [
    "displayData()"
   ]
  },
  {
   "cell_type": "markdown",
   "metadata": {
    "id": "T-hiaMNSZ91o"
   },
   "source": [
    "#### Hypothesis and cost fucntions"
   ]
  },
  {
   "cell_type": "code",
   "execution_count": 28,
   "metadata": {},
   "outputs": [
    {
     "data": {
      "text/plain": [
       "array([[1., 0., 0., ..., 0., 0., 0.],\n",
       "       [1., 0., 0., ..., 0., 0., 0.],\n",
       "       [1., 0., 0., ..., 0., 0., 0.],\n",
       "       ...,\n",
       "       [1., 0., 0., ..., 0., 0., 0.],\n",
       "       [1., 0., 0., ..., 0., 0., 0.],\n",
       "       [1., 0., 0., ..., 0., 0., 0.]])"
      ]
     },
     "execution_count": 28,
     "metadata": {},
     "output_type": "execute_result"
    }
   ],
   "source": [
    "x = np.c_[np.ones((x.shape[0], 1)), x]\n",
    "x"
   ]
  },
  {
   "cell_type": "code",
   "execution_count": 29,
   "metadata": {
    "id": "dQvBZeWTZ91o"
   },
   "outputs": [],
   "source": [
    "def hypothesis(theta):\n",
    "    return 1/(1+np.exp(-(np.dot(x, theta))))"
   ]
  },
  {
   "cell_type": "code",
   "execution_count": 30,
   "metadata": {},
   "outputs": [],
   "source": [
    "def cost_function(theta):\n",
    "    return -(1/m) * np.sum(y*np.log(hypothesis(theta)) + (1-y)*np.log(1-hypothesis(theta)))"
   ]
  },
  {
   "cell_type": "markdown",
   "metadata": {
    "collapsed": true,
    "id": "gkRMar80Z91p"
   },
   "source": [
    "#### Gradient descent algorithm"
   ]
  },
  {
   "cell_type": "code",
   "execution_count": 31,
   "metadata": {},
   "outputs": [],
   "source": [
    "def gradient_descent(alpha, theta, y_tr):\n",
    "    for i in range(2000):\n",
    "         theta -= alpha * (1/m) * np.dot(x.T,hypothesis(theta) - y)\n",
    "    return theta"
   ]
  },
  {
   "cell_type": "markdown",
   "metadata": {},
   "source": [
    "#### One vs all classification"
   ]
  },
  {
   "cell_type": "code",
   "execution_count": 32,
   "metadata": {},
   "outputs": [],
   "source": [
    "def One_vs_all(label):\n",
    "    new_y = []\n",
    "    for i in range(0, len(y)):\n",
    "        if y[i] == label:\n",
    "            new_y.append(1)\n",
    "        else:\n",
    "            new_y.append(0)\n",
    "    return new_y\n"
   ]
  },
  {
   "cell_type": "code",
   "execution_count": 33,
   "metadata": {},
   "outputs": [],
   "source": [
    "# length of dataset, learning rate, initial theta, class labels\n",
    "m = len(x)\n",
    "alpha = 0.01\n",
    "theta = np.zeros((x.shape[1], 1))\n",
    "labels = np.array([10,  1,  2,  3,  4,  5,  6,  7,  8,  9])"
   ]
  },
  {
   "cell_type": "code",
   "execution_count": 34,
   "metadata": {},
   "outputs": [],
   "source": [
    "#finding thetas for each class [10,  1,  2,  3,  4,  5,  6,  7,  8,  9]\n",
    "thetas = []\n",
    "for i in labels:\n",
    "    y_tr = np.array(One_vs_all(i))\n",
    "    y_tr = y_tr.reshape(5000, 1)\n",
    "    t = gradient_descent(alpha, theta, y_tr)\n",
    "    thetas.append(t)"
   ]
  },
  {
   "cell_type": "markdown",
   "metadata": {
    "id": "R-AfZKdHZ91r"
   },
   "source": [
    "#### Calculate accuracy"
   ]
  },
  {
   "cell_type": "code",
   "execution_count": 35,
   "metadata": {
    "id": "1sNVBRjZZ91r"
   },
   "outputs": [],
   "source": [
    "def predict(theta):\n",
    "    y_pred = np.zeros(len(y))\n",
    "    for i in range(0, len(labels)):\n",
    "        y_tr = One_vs_all(labels[i])\n",
    "        y1 = hypothesis(thetas[i])\n",
    "        for k in range(0, len(y)):\n",
    "            if y_tr[k] == 1 and y1[k] >= 0.5:\n",
    "                y_pred[k] = labels[i]\n",
    "    return y_pred"
   ]
  },
  {
   "cell_type": "code",
   "execution_count": 36,
   "metadata": {},
   "outputs": [
    {
     "data": {
      "text/plain": [
       "array([10., 10., 10., ...,  9.,  9.,  9.])"
      ]
     },
     "execution_count": 36,
     "metadata": {},
     "output_type": "execute_result"
    }
   ],
   "source": [
    "y_pred = predict(theta)\n",
    "y_pred"
   ]
  },
  {
   "cell_type": "code",
   "execution_count": 37,
   "metadata": {},
   "outputs": [
    {
     "name": "stdout",
     "output_type": "stream",
     "text": [
      "Accuracy: 100.0%\n"
     ]
    }
   ],
   "source": [
    "correct_pred=0\n",
    "for i in range(len(y)):\n",
    "    if y_pred[i] == y.flatten()[i]:\n",
    "        correct_pred += 1\n",
    "print(f'Accuracy: {correct_pred/len(y)*100}%')"
   ]
  },
  {
   "cell_type": "code",
   "execution_count": null,
   "metadata": {},
   "outputs": [],
   "source": []
  }
 ],
 "metadata": {
  "colab": {
   "name": "Assignment3_template.ipynb",
   "provenance": []
  },
  "kernelspec": {
   "display_name": "Python 3",
   "language": "python",
   "name": "python3"
  },
  "language_info": {
   "codemirror_mode": {
    "name": "ipython",
    "version": 3
   },
   "file_extension": ".py",
   "mimetype": "text/x-python",
   "name": "python",
   "nbconvert_exporter": "python",
   "pygments_lexer": "ipython3",
   "version": "3.8.5"
  }
 },
 "nbformat": 4,
 "nbformat_minor": 1
}
